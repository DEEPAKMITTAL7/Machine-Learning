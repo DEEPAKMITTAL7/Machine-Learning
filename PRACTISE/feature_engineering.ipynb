{
 "cells": [
  {
   "cell_type": "code",
   "execution_count": 1,
   "id": "4688e91e",
   "metadata": {},
   "outputs": [
    {
     "data": {
      "text/plain": [
       "'\\nMSOT OF THE TIME SPENT BY DATA SCIENTIST IS IN DATA CLEANING AS DATA IUN REAL WOPRLD IS VERY MESSY\\n\\nSOMETIMES DATA MIGHT BE MISSSING AND WE FILLIN THE DATA WITH MEAN/MEDIAN/ETC. -> outlier detection\\n\\noutlier detection, handling missing values, one hot encoding are examples of feature engineering.\\n\\nFeature engineering is must for data scientist as data is not readily avaialable for use in real world.\\n\\n'"
      ]
     },
     "execution_count": 1,
     "metadata": {},
     "output_type": "execute_result"
    }
   ],
   "source": [
    "'''\n",
    "MSOT OF THE TIME SPENT BY DATA SCIENTIST IS IN DATA CLEANING AS DATA IUN REAL WOPRLD IS VERY MESSY\n",
    "\n",
    "SOMETIMES DATA MIGHT BE MISSSING AND WE FILLIN THE DATA WITH MEAN/MEDIAN/ETC. -> outlier detection\n",
    "\n",
    "outlier detection, handling missing values, one hot encoding are examples of feature engineering.\n",
    "\n",
    "Feature engineering is must for data scientist as data is not readily avaialable for use in real world.\n",
    "\n",
    "'''"
   ]
  },
  {
   "cell_type": "code",
   "execution_count": 2,
   "id": "366e0661",
   "metadata": {},
   "outputs": [
    {
     "data": {
      "text/plain": [
       "'\\n\\noutlier detection is very useful for removing or correcting the datyaset\\nlike age can not be 1000 or marks % can not be 150 etc.\\n\\nMethods -> \\n\\n1. percentile\\n2. zscore\\n3. boxplot nad scatterplot\\n\\n'"
      ]
     },
     "execution_count": 2,
     "metadata": {},
     "output_type": "execute_result"
    }
   ],
   "source": [
    "'''\n",
    "\n",
    "outlier detection is very useful for removing or correcting the datyaset\n",
    "like age can not be 1000 or marks % can not be 150 etc.\n",
    "\n",
    "Methods -> \n",
    "\n",
    "1. percentile\n",
    "2. zscore\n",
    "3. boxplot nad scatterplot\n",
    "\n",
    "'''"
   ]
  },
  {
   "cell_type": "code",
   "execution_count": null,
   "id": "7d7e03c5",
   "metadata": {},
   "outputs": [],
   "source": []
  }
 ],
 "metadata": {
  "kernelspec": {
   "display_name": "Python 3 (ipykernel)",
   "language": "python",
   "name": "python3"
  },
  "language_info": {
   "codemirror_mode": {
    "name": "ipython",
    "version": 3
   },
   "file_extension": ".py",
   "mimetype": "text/x-python",
   "name": "python",
   "nbconvert_exporter": "python",
   "pygments_lexer": "ipython3",
   "version": "3.10.4"
  }
 },
 "nbformat": 4,
 "nbformat_minor": 5
}
