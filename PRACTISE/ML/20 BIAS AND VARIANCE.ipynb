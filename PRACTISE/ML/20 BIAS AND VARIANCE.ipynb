{
 "cells": [
  {
   "cell_type": "code",
   "execution_count": null,
   "id": "d7e3e467",
   "metadata": {},
   "outputs": [],
   "source": [
    "'''\n",
    "OVERFITTING \n",
    "\n",
    "Training VS TEST error is low\n",
    "THE MODEL LEADS TO HIGH VARIANCE\n",
    "LOW biaS AS ERROR IS LOW\n",
    "\n",
    "underfitting -> \n",
    "\n",
    "Training VS TEST error is high\n",
    "THE MODEL LEADS TO Low VARIANCE \n",
    "high biaS AS ERROR IS BIG\n",
    "\n",
    "BALANCEDfit -> \n",
    "\n",
    "Training  TEST error is low\n",
    "THE MODEL LEADS TO Low VARIANCE \n",
    "low biaS AS ERROR IS low\n",
    "\n",
    "\n",
    "WAYS TO GET A BALANCED FIT MODEL\n",
    "1. CROSS VALIDATION\n",
    "2. REGULARIZATION\n",
    "3. DIMENSIONALITY REDUCTION\n",
    "4. ENSEMBLE TECHNIQUES\n",
    "\n",
    "\n",
    "\n",
    "'''"
   ]
  }
 ],
 "metadata": {
  "kernelspec": {
   "display_name": "Python 3 (ipykernel)",
   "language": "python",
   "name": "python3"
  },
  "language_info": {
   "codemirror_mode": {
    "name": "ipython",
    "version": 3
   },
   "file_extension": ".py",
   "mimetype": "text/x-python",
   "name": "python",
   "nbconvert_exporter": "python",
   "pygments_lexer": "ipython3",
   "version": "3.10.4"
  }
 },
 "nbformat": 4,
 "nbformat_minor": 5
}
