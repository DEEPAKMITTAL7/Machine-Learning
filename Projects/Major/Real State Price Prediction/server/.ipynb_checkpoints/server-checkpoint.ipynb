{
 "cells": [
  {
   "cell_type": "code",
   "execution_count": null,
   "id": "2ea77f37",
   "metadata": {},
   "outputs": [
    {
     "name": "stdout",
     "output_type": "stream",
     "text": [
      "python flask started\n",
      " * Serving Flask app '__main__'\n",
      " * Debug mode: off\n"
     ]
    },
    {
     "name": "stderr",
     "output_type": "stream",
     "text": [
      "WARNING: This is a development server. Do not use it in a production deployment. Use a production WSGI server instead.\n",
      " * Running on http://127.0.0.1:5000\n",
      "Press CTRL+C to quit\n",
      "127.0.0.1 - - [14/Feb/2023 01:48:38] \"GET / HTTP/1.1\" 404 -\n",
      "127.0.0.1 - - [14/Feb/2023 01:48:39] \"GET /favicon.ico HTTP/1.1\" 404 -\n"
     ]
    }
   ],
   "source": [
    "from flask import Flask, request, jsonify\n",
    "#import util\n",
    "%run util.ipynb\n",
    "\n",
    "app = Flask(__name__)\n",
    "\n",
    "@app.route('/locations')\n",
    "def locations():\n",
    "    \n",
    "    response = jsonify({\n",
    "        'locations' : locations()\n",
    "    })\n",
    "    response.headers.add('Access-Control-Allow-Origin','*')\n",
    "    \n",
    "    return response\n",
    "\n",
    "\n",
    "@app.route('/predict_home_price',methods=['POST'])\n",
    "def predict_home_price():\n",
    "    total_sqft = float(request.form['total_sqft'])\n",
    "    location = request.form['location']\n",
    "    size = int(request.form['size'])\n",
    "    bath = int(request.form['bath'])\n",
    "    area_type = request.form['area_type']\n",
    "    balcony = int(request.form['balcony'])\n",
    "    \n",
    "    response = jsonify({\n",
    "        'estimated_price': get_estimated_price(area_type,location,size,total_sqft,bath,balcony)\n",
    "    })\n",
    "    \n",
    "    response.headers.add('Access-Control-Allow-Origin','*')\n",
    "    \n",
    "    return response\n",
    "\n",
    "if __name__ == '__main__':\n",
    "    print('python flask started')\n",
    "    app.run()"
   ]
  }
 ],
 "metadata": {
  "kernelspec": {
   "display_name": "Python 3 (ipykernel)",
   "language": "python",
   "name": "python3"
  },
  "language_info": {
   "codemirror_mode": {
    "name": "ipython",
    "version": 3
   },
   "file_extension": ".py",
   "mimetype": "text/x-python",
   "name": "python",
   "nbconvert_exporter": "python",
   "pygments_lexer": "ipython3",
   "version": "3.10.4"
  }
 },
 "nbformat": 4,
 "nbformat_minor": 5
}
